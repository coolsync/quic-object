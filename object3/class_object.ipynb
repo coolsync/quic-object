{
 "cells": [
  {
   "cell_type": "markdown",
   "id": "12c82468",
   "metadata": {},
   "source": [
    "## encapsulation"
   ]
  },
  {
   "attachments": {
    "encapsulation.png": {
     "image/png": "[encoded data removed]"
    }
   },
   "cell_type": "markdown",
   "id": "9d642798",
   "metadata": {},
   "source": [
    "### Private methods\n",
    "the methods cannot be called on the object direclty, only from within the classs.\n",
    "![encapsulation.png](attachment:encapsulation.png)"
   ]
  },
  {
   "cell_type": "code",
   "execution_count": 5,
   "id": "f114f5bf",
   "metadata": {},
   "outputs": [
    {
     "name": "stdout",
     "output_type": "stream",
     "text": [
      "update softwares\n",
      "the car drive!\n"
     ]
    }
   ],
   "source": [
    "class Car:\n",
    "    def __init__(self):\n",
    "        self.__updateSoftwares()\n",
    "    \n",
    "    # private methods\n",
    "    def __updateSoftwares(self): \n",
    "        print('update softwares')\n",
    "        \n",
    "    def drive(self):\n",
    "        print('the car drive!')\n",
    "        \n",
    "red_car = Car();\n",
    "red_car.drive();\n",
    "# red_car.__updateSoftwares() # a object cannot call private method."
   ]
  },
  {
   "attachments": {
    "encapsulation-example.png.webp": {
     "image/webp": "[encoded data removed]"
    }
   },
   "cell_type": "markdown",
   "id": "bf563b20",
   "metadata": {},
   "source": [
    "### Private variables\n",
    "![encapsulation-example.png.webp](attachment:encapsulation-example.png.webp)"
   ]
  }
 ],
 "metadata": {
  "kernelspec": {
   "display_name": "Python 3 (ipykernel)",
   "language": "python",
   "name": "python3"
  },
  "language_info": {
   "codemirror_mode": {
    "name": "ipython",
    "version": 3
   },
   "file_extension": ".py",
   "mimetype": "text/x-python",
   "name": "python",
   "nbconvert_exporter": "python",
   "pygments_lexer": "ipython3",
   "version": "3.9.16"
  }
 },
 "nbformat": 4,
 "nbformat_minor": 5
}
