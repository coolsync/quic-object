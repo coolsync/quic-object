{
 "cells": [
  {
   "cell_type": "code",
   "execution_count": 1,
   "id": "837c6c01",
   "metadata": {},
   "outputs": [
    {
     "name": "stdout",
     "output_type": "stream",
     "text": [
      "[0, 1, [3]]\n",
      "[0, 1, [3, 4]]\n",
      "[0, 1, 2]\n"
     ]
    }
   ],
   "source": [
    "# Problem 1: What will be the output of the following program?\n",
    "x = [0, 1, [2]]\n",
    "x[2][0] = 3\n",
    "print(x) # x = [0,1,[3]]\n",
    "x[2].append(4)\n",
    "print(x) # x = [0,1, [3, 4]]\n",
    "x[2] = 2\n",
    "print(x) # x = [0, 1, 2]"
   ]
  },
  {
   "cell_type": "code",
   "execution_count": 2,
   "id": "3bffdc4b",
   "metadata": {},
   "outputs": [
    {
     "name": "stdout",
     "output_type": "stream",
     "text": [
      "0 0 0\n",
      "1 1 1\n",
      "2 4 8\n",
      "3 9 27\n",
      "4 16 64\n",
      "5 25 125\n",
      "6 36 216\n",
      "7 49 343\n",
      "8 64 512\n",
      "9 81 729\n"
     ]
    }
   ],
   "source": [
    "# 2.1.1. The for Statement\n",
    "for i in range(10):\n",
    "    print(i, i*i, i*i*i)\n"
   ]
  },
  {
   "cell_type": "code",
   "execution_count": 5,
   "id": "f08ef114",
   "metadata": {},
   "outputs": [
    {
     "name": "stdout",
     "output_type": "stream",
     "text": [
      "('c', 1)\n",
      "('b', 2)\n",
      "('a', 3)\n",
      "6\n"
     ]
    }
   ],
   "source": [
    "names = {'a', 'b', 'c'}\n",
    "values = {1, 2, 3}\n",
    "\n",
    "for tp in zip(names, values):\n",
    "    print(tp)\n",
    "    \n",
    "# Problem 2: Python has a built-in function sum to find sum of all elements of a list. \n",
    "# Provide an implementation for sum.\n",
    "# sum([1, 2, 3])\n",
    "# 6\n",
    "\n",
    "def sum(nums):\n",
    "    sum_nums = 0;\n",
    "    for i in nums:\n",
    "        sum_nums+=i\n",
    "    return sum_nums\n",
    "\n",
    "nums = [1, 2, 3]\n",
    "print(sum(nums))"
   ]
  },
  {
   "cell_type": "code",
   "execution_count": null,
   "id": "1fe0e8a9",
   "metadata": {},
   "outputs": [],
   "source": [
    "# Problem 3: What happens when the above sum function is called with a list of strings?\n",
    "# Can you make your sum function work for a list of strings as well.\n",
    "# sum([\"hello\", \"world\"])\n",
    "# \"helloworld\"\n",
    "\n",
    "def sum(strs):\n",
    "    sum_strs = 0;\n",
    "    for s in strs:\n",
    "        sum_strs+=s\n",
    "        print(sum_strs)\n",
    "    return sum_strs\n",
    "\n",
    "str_list = [\"hello\", \"world\"]\n",
    "print(sum(str_list))\n"
   ]
  },
  {
   "cell_type": "markdown",
   "id": "2c5d6547",
   "metadata": {},
   "source": [
    "\n",
    "## String\n",
    "\n",
    "- `in 操作符`\n",
    "- `split 方法`\n",
    "- `join method`\n",
    "- `strip method`\n"
   ]
  },
  {
   "cell_type": "code",
   "execution_count": null,
   "id": "24cb88f8",
   "metadata": {},
   "outputs": [],
   "source": [
    "# Problem 16: Write a function extsort to sort a list of files based on extension.\n",
    "# extsort(['a.c', 'a.py', 'b.py', 'bar.txt', 'foo.txt', 'x.c'])\n",
    "# ['a.c', 'x.c', 'a.py', 'b.py', 'bar.txt', 'foo.txt']\n",
    "# 1. split('.')[1]\n",
    "# 2. map{split('.')[1], split('.')[0]}\n",
    "# 3. map.sort()\n",
    "# 4. for list.append('.'.join(m))\n",
    "def extsort(str_list):\n",
    "    for v in str_list:\n",
    "        print(v.split('.')[1])\n",
    "    str_list.sort(key=lambda v: v.split('.')[1])\n",
    "#     return r\n",
    "    print(str_list)\n",
    "\n",
    "    \n",
    "\n",
    "def extsort2(str_list):\n",
    "    r = []\n",
    "    for v in str_list:\n",
    "#         print(v)\n",
    "        r.append((v.split('.')[1],v.split('.')[0]))\n",
    "    \n",
    "#   for i,v in r:\n",
    "#         print(i,v)\n",
    "    # r.sort()\n",
    "    # r.sort(key=)\n",
    "    r2 = []\n",
    "    for i in r:\n",
    "        r2.append(i[1] + '.' + i[0])\n",
    "    print(r2)\n",
    "#     for i in r:\n",
    "        \n",
    "#     str_list.sort(key=lambda v: v.split('.')[1])\n",
    "#     print(str_list)\n",
    "a = ['a.c', 'a.py', 'b.py', 'bar.txt', 'foo.txt', 'x.c']\n",
    "extsort2(a)"
   ]
  },
  {
   "cell_type": "code",
   "execution_count": null,
   "id": "9a2cfdc1",
   "metadata": {},
   "outputs": [],
   "source": []
  }
 ],
 "metadata": {
  "kernelspec": {
   "display_name": "Python 3 (ipykernel)",
   "language": "python",
   "name": "python3"
  },
  "language_info": {
   "codemirror_mode": {
    "name": "ipython",
    "version": 3
   },
   "file_extension": ".py",
   "mimetype": "text/x-python",
   "name": "python",
   "nbconvert_exporter": "python",
   "pygments_lexer": "ipython3",
   "version": "3.9.16"
  }
 },
 "nbformat": 4,
 "nbformat_minor": 5
}
